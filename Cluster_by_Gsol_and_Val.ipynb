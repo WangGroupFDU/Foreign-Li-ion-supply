{
 "cells": [
  {
   "cell_type": "code",
   "execution_count": 1,
   "id": "c21fef2a",
   "metadata": {},
   "outputs": [],
   "source": [
    "import warnings\n",
    "import pandas as pd\n",
    "import numpy as np\n",
    "import matplotlib.pyplot as plt\n",
    "from rdkit import Chem, DataStructs, RDLogger\n",
    "from rdkit.Chem import AllChem, Descriptors, Draw, rdMolDescriptors, Lipinski, Descriptors3D\n",
    "from rdkit.ML.Cluster import Butina\n",
    "from rdkit.ML.Descriptors import MoleculeDescriptors\n",
    "from scipy.cluster.hierarchy import dendrogram, linkage, fcluster\n",
    "from scipy.spatial.distance import squareform, pdist\n",
    "from sklearn.cluster import AgglomerativeClustering\n",
    "from sklearn.preprocessing import MinMaxScaler\n",
    "import matplotlib.ticker as ticker\n",
    "from rdkit.Chem.Descriptors3D import Asphericity, Eccentricity, InertialShapeFactor, NPR1, NPR2, PMI1, PMI2, PMI3, RadiusOfGyration, SpherocityIndex\n",
    "from rdkit.Chem.Draw.MolDrawing import DrawingOptions"
   ]
  },
  {
   "cell_type": "code",
   "execution_count": 2,
   "id": "b4ce222f-13b1-439f-8535-8cacd7578799",
   "metadata": {},
   "outputs": [],
   "source": [
    "random_seed = 21"
   ]
  },
  {
   "cell_type": "code",
   "execution_count": 3,
   "id": "64bf30ca-204d-4700-800a-1743993f612b",
   "metadata": {},
   "outputs": [],
   "source": [
    "RDLogger.DisableLog('rdApp.*')\n",
    "warnings.filterwarnings(\"ignore\")"
   ]
  },
  {
   "cell_type": "code",
   "execution_count": 4,
   "id": "63577d3a",
   "metadata": {},
   "outputs": [],
   "source": [
    "# Accessing Excel spreadsheets\n",
    "data = pd.read_excel('./Data/molecules.xlsx')"
   ]
  },
  {
   "cell_type": "code",
   "execution_count": 5,
   "id": "260b5a2e",
   "metadata": {},
   "outputs": [],
   "source": [
    "# Handling missing data\n",
    "data['Anode Limit'].fillna(0, inplace=True)\n",
    "data['Solubility Energy'].fillna(0, inplace=True)\n",
    "\n",
    "# Converting to standardized SMILES representation\n",
    "data['SMILES'] = data['SMILES'].apply(lambda x: Chem.MolToSmiles(Chem.MolFromSmiles(x)))"
   ]
  },
  {
   "cell_type": "code",
   "execution_count": 6,
   "id": "3d872ae9",
   "metadata": {},
   "outputs": [],
   "source": [
    "# Molecular descriptors for training a clustering analysis model capable of clustering based on solubility.\n",
    "def calculate_descriptors_sol(smiles, random_seed=random_seed):\n",
    "    mol = Chem.MolFromSmiles(smiles)\n",
    "    descriptors = {}\n",
    "    # Molecular descriptors describing the basic structure of reactants.\n",
    "    descriptors['NumAtoms'] = mol.GetNumAtoms()  # Number of atoms in a molecule.\n",
    "    descriptors['NumHeavyAtoms'] = mol.GetNumHeavyAtoms()  # Number of heavy atoms in a molecule.\n",
    "    descriptors['NumHeteroatoms'] = Descriptors.NumHeteroatoms(mol)  # Number of heteroatoms in a molecule.\n",
    "    descriptors['NumRotatableBonds'] = Descriptors.NumRotatableBonds(mol)  # Number of rotatable bonds in a molecule.\n",
    "    descriptors['NumRings'] = Descriptors.RingCount(mol)  # Number of heterocycles in a molecule.\n",
    "    descriptors['NumAromaticRings'] = Descriptors.NumAromaticRings(mol)  # Number of aromatic heterocycles in a molecule.\n",
    "    descriptors['NumAliphaticRings'] = Descriptors.NumAliphaticRings(mol)  # Number of aliphatic rings in a molecule.\n",
    "    descriptors['NumSaturatedRings'] = Descriptors.NumSaturatedRings(mol)  # Number of saturated heterocycles in a molecule.\n",
    "    descriptors['FractionCSP3'] = Lipinski.FractionCSP3(mol)  # Proportion of carbon atoms undergoing sp3 hybridization.\n",
    "    descriptors['FormalCharge'] = sum([atom.GetFormalCharge() for atom in mol.GetAtoms()])  # Total charge of the molecule.\n",
    "    descriptors['NumAromaticCarbocycles'] = Descriptors.NumAromaticCarbocycles(mol)  # Number of aromatic carbon rings, indirectly describing the conjugation properties.\n",
    "    descriptors['NumAromaticHeterocycles'] = Descriptors.NumAromaticHeterocycles(mol)  # Count of aromatic heterocycles, indirectly characterizing the conjugation properties.\n",
    "    descriptors['NumSaturatedCarbocycles'] = Descriptors.NumSaturatedCarbocycles(mol)  # Number of saturated carbon rings.\n",
    "    \n",
    "    # Molecular descriptor describing the size of reactants, whereby larger anions are generally considered less soluble.\n",
    "    descriptors['TPSA'] = Descriptors.TPSA(mol)# Solubility, TPSA (Topological Polar Surface Area), is calculated based on the molecular's topology and represents the polar surface area. Larger TPSA values are typically associated with larger molecular surface area, which may indicate the presence of larger anions.\n",
    "    descriptors['MolWt'] = Descriptors.MolWt(mol)# Solubility, MolWt (molecular weight), refers to the relative mass of a molecule. Larger relative molecular weights may be associated with larger anions.\n",
    "    descriptors['HeavyAtomMolWt'] = Descriptors.HeavyAtomMolWt(mol)# Solubility, HeavyAtomMolWt, represents the sum of the relative molecular weights of the heavy atoms in a molecule. Larger HeavyAtomMolWt values may indicate the presence of larger anions.\n",
    "    descriptors['NumHDonors'] = Descriptors.NumHDonors(mol) # Hydrogen bond donor count (HBD)\n",
    "    descriptors['NumHAcceptors'] = Descriptors.NumHAcceptors(mol) # Hydrogen bond acceptor count (HBA)\n",
    "  \n",
    "    # Generate three-dimensional molecular descriptors.\n",
    "    AllChem.EmbedMolecule(mol, useRandomCoords=True,maxAttempts=5000, randomSeed=random_seed)# Convert two-dimensional molecular graph into three-dimensional molecular coordinates.\n",
    "    AllChem.MMFFOptimizeMolecule(mol)# Perform conformational optimization of the molecule using MMFF94 force field.\n",
    "    mol=Chem.AddHs(mol)# Add hydrogen atoms to the 3D conformation of the molecule.\n",
    "    # Generate a 3D conformation for molecule M2 and optimize it using the ETKDG algorithm.\n",
    "    params = AllChem.ETKDG()\n",
    "    params.randomSeed = random_seed\n",
    "    AllChem.EmbedMolecule(mol, params)\n",
    "    \n",
    "    descriptors['Asphericity'] = Descriptors3D.Asphericity(mol)  # The sphericity of a molecule refers to the degree of irregularity in its shape, describing how far it deviates from a perfect sphere.\n",
    "    descriptors['Eccentricity'] = Descriptors3D.Eccentricity(mol)  # The eccentricity of a molecule describes the degree of elongation or stretching in its shape. It quantifies how much the molecule deviates from a perfect circle or sphere by measuring the ratio of its major axis to its minor axis.\n",
    "    descriptors['InertialShapeFactor'] = Descriptors3D.InertialShapeFactor(mol)  # The moment of inertia shape factor of a molecule describes the degree of asymmetry in its shape. It quantifies the molecule's deviation from a symmetrical or balanced configuration, reflecting the distribution of mass around its axis of rotation.\n",
    "    descriptors['NPR1'] = Descriptors3D.NPR1(mol)  # One of the principal axis ratios of a molecule describes the degree of planarity in its shape. It represents the ratio between the lengths of the molecule's major axis and its minor axis, indicating how flattened or elongated the molecule appears in relation to its overall structure.\n",
    "    descriptors['NPR2'] = Descriptors3D.NPR2(mol)  # Another principal axis ratio of a molecule delineates the level of planarity in its shape. It characterizes the ratio between the lengths of the molecule's longest axis and its second longest axis, elucidating the extent to which the molecule appears flattened or elongated within its overall structure.\n",
    "    descriptors['PMI1'] = Descriptors3D.PMI1(mol)  # One of the principal moments of inertia of a molecule delineates the distribution and rotational properties of its shape. It captures the molecule's susceptibility to rotation and reveals the spatial arrangement of its constituent atoms within its overall structure.\n",
    "    descriptors['PMI2'] = Descriptors3D.PMI2(mol)  # The second principal moment of inertia of a molecule elucidates the distribution and rotational characteristics of its shape. It imparts insights into the molecule's propensity for rotation, unveiling the spatial arrangement and orientation of its constituent elements within its overarching structure.\n",
    "    descriptors['PMI3'] = Descriptors3D.PMI3(mol)  # The third principal moment of inertia of a molecule delineates the dispersion of its shape and the rotational properties it exhibits. It provides a profound depiction of the molecule's capacity for rotation, illuminating the intricate arrangement and dynamic characteristics of its constituent components within its overarching molecular framework.\n",
    "    descriptors['RadiusOfGyration'] = Descriptors3D.RadiusOfGyration(mol)  # The gyradius of a molecule encapsulates its expansibility and flexibility, serving as a measure of its rotational radius. It embodies the inherent ability of the molecule to undergo rotational motion, revealing the extent to which it can extend and adapt, exemplifying its structural adaptability and dynamic nature.\n",
    "    descriptors['SpherocityIndex'] = Descriptors3D.SpherocityIndex(mol)  # The sphericity index of a molecule characterizes the degree of spherical shape exhibited by its structure. It quantifies the molecule's resemblance to a perfect sphere, conveying information about its overall roundness and compactness. The sphericity index provides insight into the molecular geometry, reflecting the level of symmetry and spherical symmetry present within the molecule's architecture.\n",
    "    \n",
    "    \n",
    "    return pd.Series(descriptors)"
   ]
  },
  {
   "cell_type": "code",
   "execution_count": 7,
   "id": "49b03dc5",
   "metadata": {
    "scrolled": true
   },
   "outputs": [],
   "source": [
    "descriptors_sol = data['SMILES'].apply(calculate_descriptors_sol)\n",
    "data_sol = pd.concat([data, descriptors_sol], axis=1)"
   ]
  },
  {
   "cell_type": "code",
   "execution_count": 8,
   "id": "8fd80982",
   "metadata": {},
   "outputs": [],
   "source": [
    "# The molecular descriptors employed for training a clustering analysis model capable of categorizing structures based on their anodic limit structural features. \n",
    "def calculate_descriptors_Val(smiles, random_seed=random_seed):\n",
    "    mol = Chem.MolFromSmiles(smiles)\n",
    "    descriptors = {}\n",
    "    descriptors['NumAtoms'] = mol.GetNumAtoms()  \n",
    "    descriptors['NumHeavyAtoms'] = mol.GetNumHeavyAtoms()  \n",
    "    descriptors['NumHeteroatoms'] = Descriptors.NumHeteroatoms(mol)  \n",
    "    descriptors['NumRotatableBonds'] = Descriptors.NumRotatableBonds(mol)  \n",
    "    descriptors['NumRings'] = Descriptors.RingCount(mol)  \n",
    "    descriptors['NumAromaticRings'] = Descriptors.NumAromaticRings(mol)  \n",
    "    descriptors['NumAliphaticRings'] = Descriptors.NumAliphaticRings(mol) \n",
    "    descriptors['NumSaturatedRings'] = Descriptors.NumSaturatedRings(mol)  \n",
    "    descriptors['FractionCSP3'] = Lipinski.FractionCSP3(mol)  \n",
    "    descriptors['FormalCharge'] = sum([atom.GetFormalCharge() for atom in mol.GetAtoms()])  \n",
    "    descriptors['NumAromaticCarbocycles'] = Descriptors.NumAromaticCarbocycles(mol)  \n",
    "    descriptors['NumAromaticHeterocycles'] = Descriptors.NumAromaticHeterocycles(mol)  \n",
    "    descriptors['NumSaturatedCarbocycles'] = Descriptors.NumSaturatedCarbocycles(mol) \n",
    "    \n",
    "    # Molecular descriptors are utilized to depict the spatial impediments and stereochemical properties of reactant structures.\n",
    "    descriptors['LogP'] = Descriptors.MolLogP(mol)  # The molecular partition coefficient signifies the distribution of a molecule between different phases, typically between a nonpolar phase (e.g., a solvent) and a polar phase (e.g., water).\n",
    "    descriptors['MR'] = Descriptors.MolMR(mol) # The molecular polarizability refers to a measure of a molecule's polarity and can be utilized as an indicator of the degree of electron cloud overlap within the molecule. It can provide insights into both solubility and anodic limits, offering a comprehensive perspective.\n",
    "    \n",
    "    \n",
    "    # Getting the valence of the element S\n",
    "    for atom in mol.GetAtoms():\n",
    "        atom_symbol = atom.GetSymbol()\n",
    "        if atom_symbol  == 'S':\n",
    "            descriptors['Valence_S'] = atom.GetTotalValence() \n",
    "\n",
    "    # sp2 Hybridization ratio of element C \n",
    "    total_carbons = 0\n",
    "    sp2_carbons = 0\n",
    "\n",
    "    for atom in mol.GetAtoms():\n",
    "        if atom.GetAtomicNum() == 6: \n",
    "            total_carbons += 1\n",
    "            hybridization = atom.GetHybridization()\n",
    "            if hybridization == Chem.HybridizationType.SP2:\n",
    "                sp2_carbons += 1\n",
    "\n",
    "    sp2_ratio = sp2_carbons / total_carbons\n",
    "    descriptors['FractionCSP2'] = sp2_ratio \n",
    "    \n",
    "    # Number of conjugated π-electrons in the ion\n",
    "    conjugated_pi_electrons = 0\n",
    "\n",
    "    for bond in mol.GetBonds():\n",
    "        if bond.GetBondType() == Chem.BondType.DOUBLE or bond.GetBondType() == Chem.BondType.AROMATIC:\n",
    "            conjugated_pi_electrons += 2  \n",
    "\n",
    "    for atom in mol.GetAtoms():\n",
    "        if atom.GetAtomicNum() == 6:\n",
    "            hybridization = atom.GetHybridization()\n",
    "            if hybridization == Chem.HybridizationType.SP2:\n",
    "                conjugated_pi_electrons += 1  \n",
    "\n",
    "    descriptors['conjugated_pi_electrons'] = conjugated_pi_electrons\n",
    "    \n",
    "\n",
    "    AllChem.EmbedMolecule(mol, useRandomCoords=True,maxAttempts=5000, randomSeed=random_seed)\n",
    "    AllChem.MMFFOptimizeMolecule(mol)\n",
    "    mol=Chem.AddHs(mol)\n",
    "    params = AllChem.ETKDG()\n",
    "    params.randomSeed = random_seed\n",
    "    AllChem.EmbedMolecule(mol, params)\n",
    "    \n",
    "    descriptors['Asphericity'] = Descriptors3D.Asphericity(mol)\n",
    "    descriptors['Eccentricity'] = Descriptors3D.Eccentricity(mol)  \n",
    "    descriptors['InertialShapeFactor'] = Descriptors3D.InertialShapeFactor(mol) \n",
    "    descriptors['NPR1'] = Descriptors3D.NPR1(mol) \n",
    "    descriptors['NPR2'] = Descriptors3D.NPR2(mol) \n",
    "    descriptors['PMI1'] = Descriptors3D.PMI1(mol)\n",
    "    descriptors['PMI2'] = Descriptors3D.PMI2(mol)\n",
    "    descriptors['PMI3'] = Descriptors3D.PMI3(mol)  \n",
    "    descriptors['RadiusOfGyration'] = Descriptors3D.RadiusOfGyration(mol) \n",
    "    descriptors['SpherocityIndex'] = Descriptors3D.SpherocityIndex(mol)\n",
    "    \n",
    "    \n",
    "    return pd.Series(descriptors)"
   ]
  },
  {
   "cell_type": "code",
   "execution_count": 9,
   "id": "03da6e6d",
   "metadata": {},
   "outputs": [],
   "source": [
    "descriptors_Val = data['SMILES'].apply(calculate_descriptors_Val)\n",
    "descriptors_Val['Valence_S'].fillna(0, inplace=True)\n",
    "data_Val = pd.concat([data, descriptors_Val], axis=1)"
   ]
  },
  {
   "cell_type": "code",
   "execution_count": 10,
   "id": "3931c334",
   "metadata": {},
   "outputs": [],
   "source": [
    "# data normalization (solubility model）\n",
    "scaler = MinMaxScaler()\n",
    "scaled_data_sol = scaler.fit_transform(data_sol.iloc[:, 3:])\n",
    "scaled_data_sol = pd.DataFrame(scaled_data_sol, columns=data_sol.columns[3:])\n",
    "data_sol = pd.concat([data_sol.iloc[:, :3], scaled_data_sol], axis=1)\n",
    "# data normalization (anode limit model）\n",
    "scaler = MinMaxScaler()\n",
    "scaled_data_Val = scaler.fit_transform(data_Val.iloc[:, 3:])\n",
    "scaled_data_Val = pd.DataFrame(scaled_data_Val, columns=data_Val.columns[3:])\n",
    "data_Val = pd.concat([data_Val.iloc[:, :3], scaled_data_Val], axis=1)"
   ]
  },
  {
   "cell_type": "code",
   "execution_count": 11,
   "id": "63fc3945",
   "metadata": {},
   "outputs": [
    {
     "data": {
      "text/html": [
       "<style>#sk-container-id-1 {color: black;background-color: white;}#sk-container-id-1 pre{padding: 0;}#sk-container-id-1 div.sk-toggleable {background-color: white;}#sk-container-id-1 label.sk-toggleable__label {cursor: pointer;display: block;width: 100%;margin-bottom: 0;padding: 0.3em;box-sizing: border-box;text-align: center;}#sk-container-id-1 label.sk-toggleable__label-arrow:before {content: \"▸\";float: left;margin-right: 0.25em;color: #696969;}#sk-container-id-1 label.sk-toggleable__label-arrow:hover:before {color: black;}#sk-container-id-1 div.sk-estimator:hover label.sk-toggleable__label-arrow:before {color: black;}#sk-container-id-1 div.sk-toggleable__content {max-height: 0;max-width: 0;overflow: hidden;text-align: left;background-color: #f0f8ff;}#sk-container-id-1 div.sk-toggleable__content pre {margin: 0.2em;color: black;border-radius: 0.25em;background-color: #f0f8ff;}#sk-container-id-1 input.sk-toggleable__control:checked~div.sk-toggleable__content {max-height: 200px;max-width: 100%;overflow: auto;}#sk-container-id-1 input.sk-toggleable__control:checked~label.sk-toggleable__label-arrow:before {content: \"▾\";}#sk-container-id-1 div.sk-estimator input.sk-toggleable__control:checked~label.sk-toggleable__label {background-color: #d4ebff;}#sk-container-id-1 div.sk-label input.sk-toggleable__control:checked~label.sk-toggleable__label {background-color: #d4ebff;}#sk-container-id-1 input.sk-hidden--visually {border: 0;clip: rect(1px 1px 1px 1px);clip: rect(1px, 1px, 1px, 1px);height: 1px;margin: -1px;overflow: hidden;padding: 0;position: absolute;width: 1px;}#sk-container-id-1 div.sk-estimator {font-family: monospace;background-color: #f0f8ff;border: 1px dotted black;border-radius: 0.25em;box-sizing: border-box;margin-bottom: 0.5em;}#sk-container-id-1 div.sk-estimator:hover {background-color: #d4ebff;}#sk-container-id-1 div.sk-parallel-item::after {content: \"\";width: 100%;border-bottom: 1px solid gray;flex-grow: 1;}#sk-container-id-1 div.sk-label:hover label.sk-toggleable__label {background-color: #d4ebff;}#sk-container-id-1 div.sk-serial::before {content: \"\";position: absolute;border-left: 1px solid gray;box-sizing: border-box;top: 0;bottom: 0;left: 50%;z-index: 0;}#sk-container-id-1 div.sk-serial {display: flex;flex-direction: column;align-items: center;background-color: white;padding-right: 0.2em;padding-left: 0.2em;position: relative;}#sk-container-id-1 div.sk-item {position: relative;z-index: 1;}#sk-container-id-1 div.sk-parallel {display: flex;align-items: stretch;justify-content: center;background-color: white;position: relative;}#sk-container-id-1 div.sk-item::before, #sk-container-id-1 div.sk-parallel-item::before {content: \"\";position: absolute;border-left: 1px solid gray;box-sizing: border-box;top: 0;bottom: 0;left: 50%;z-index: -1;}#sk-container-id-1 div.sk-parallel-item {display: flex;flex-direction: column;z-index: 1;position: relative;background-color: white;}#sk-container-id-1 div.sk-parallel-item:first-child::after {align-self: flex-end;width: 50%;}#sk-container-id-1 div.sk-parallel-item:last-child::after {align-self: flex-start;width: 50%;}#sk-container-id-1 div.sk-parallel-item:only-child::after {width: 0;}#sk-container-id-1 div.sk-dashed-wrapped {border: 1px dashed gray;margin: 0 0.4em 0.5em 0.4em;box-sizing: border-box;padding-bottom: 0.4em;background-color: white;}#sk-container-id-1 div.sk-label label {font-family: monospace;font-weight: bold;display: inline-block;line-height: 1.2em;}#sk-container-id-1 div.sk-label-container {text-align: center;}#sk-container-id-1 div.sk-container {/* jupyter's `normalize.less` sets `[hidden] { display: none; }` but bootstrap.min.css set `[hidden] { display: none !important; }` so we also need the `!important` here to be able to override the default hidden behavior on the sphinx rendered scikit-learn.org. See: https://github.com/scikit-learn/scikit-learn/issues/21755 */display: inline-block !important;position: relative;}#sk-container-id-1 div.sk-text-repr-fallback {display: none;}</style><div id=\"sk-container-id-1\" class=\"sk-top-container\"><div class=\"sk-text-repr-fallback\"><pre>AgglomerativeClustering(distance_threshold=0.5, n_clusters=None)</pre><b>In a Jupyter environment, please rerun this cell to show the HTML representation or trust the notebook. <br />On GitHub, the HTML representation is unable to render, please try loading this page with nbviewer.org.</b></div><div class=\"sk-container\" hidden><div class=\"sk-item\"><div class=\"sk-estimator sk-toggleable\"><input class=\"sk-toggleable__control sk-hidden--visually\" id=\"sk-estimator-id-1\" type=\"checkbox\" checked><label for=\"sk-estimator-id-1\" class=\"sk-toggleable__label sk-toggleable__label-arrow\">AgglomerativeClustering</label><div class=\"sk-toggleable__content\"><pre>AgglomerativeClustering(distance_threshold=0.5, n_clusters=None)</pre></div></div></div></div></div>"
      ],
      "text/plain": [
       "AgglomerativeClustering(distance_threshold=0.5, n_clusters=None)"
      ]
     },
     "execution_count": 11,
     "metadata": {},
     "output_type": "execute_result"
    }
   ],
   "source": [
    "# solubility model\n",
    "X_sol = data_sol.iloc[:, 3:]\n",
    "model_sol = AgglomerativeClustering(distance_threshold=0.5, n_clusters=None)\n",
    "model_sol=model_sol.fit(X_sol)\n",
    "model_sol.fit(X_sol)"
   ]
  },
  {
   "cell_type": "code",
   "execution_count": 12,
   "id": "2d7273c1",
   "metadata": {},
   "outputs": [
    {
     "data": {
      "text/html": [
       "<style>#sk-container-id-2 {color: black;background-color: white;}#sk-container-id-2 pre{padding: 0;}#sk-container-id-2 div.sk-toggleable {background-color: white;}#sk-container-id-2 label.sk-toggleable__label {cursor: pointer;display: block;width: 100%;margin-bottom: 0;padding: 0.3em;box-sizing: border-box;text-align: center;}#sk-container-id-2 label.sk-toggleable__label-arrow:before {content: \"▸\";float: left;margin-right: 0.25em;color: #696969;}#sk-container-id-2 label.sk-toggleable__label-arrow:hover:before {color: black;}#sk-container-id-2 div.sk-estimator:hover label.sk-toggleable__label-arrow:before {color: black;}#sk-container-id-2 div.sk-toggleable__content {max-height: 0;max-width: 0;overflow: hidden;text-align: left;background-color: #f0f8ff;}#sk-container-id-2 div.sk-toggleable__content pre {margin: 0.2em;color: black;border-radius: 0.25em;background-color: #f0f8ff;}#sk-container-id-2 input.sk-toggleable__control:checked~div.sk-toggleable__content {max-height: 200px;max-width: 100%;overflow: auto;}#sk-container-id-2 input.sk-toggleable__control:checked~label.sk-toggleable__label-arrow:before {content: \"▾\";}#sk-container-id-2 div.sk-estimator input.sk-toggleable__control:checked~label.sk-toggleable__label {background-color: #d4ebff;}#sk-container-id-2 div.sk-label input.sk-toggleable__control:checked~label.sk-toggleable__label {background-color: #d4ebff;}#sk-container-id-2 input.sk-hidden--visually {border: 0;clip: rect(1px 1px 1px 1px);clip: rect(1px, 1px, 1px, 1px);height: 1px;margin: -1px;overflow: hidden;padding: 0;position: absolute;width: 1px;}#sk-container-id-2 div.sk-estimator {font-family: monospace;background-color: #f0f8ff;border: 1px dotted black;border-radius: 0.25em;box-sizing: border-box;margin-bottom: 0.5em;}#sk-container-id-2 div.sk-estimator:hover {background-color: #d4ebff;}#sk-container-id-2 div.sk-parallel-item::after {content: \"\";width: 100%;border-bottom: 1px solid gray;flex-grow: 1;}#sk-container-id-2 div.sk-label:hover label.sk-toggleable__label {background-color: #d4ebff;}#sk-container-id-2 div.sk-serial::before {content: \"\";position: absolute;border-left: 1px solid gray;box-sizing: border-box;top: 0;bottom: 0;left: 50%;z-index: 0;}#sk-container-id-2 div.sk-serial {display: flex;flex-direction: column;align-items: center;background-color: white;padding-right: 0.2em;padding-left: 0.2em;position: relative;}#sk-container-id-2 div.sk-item {position: relative;z-index: 1;}#sk-container-id-2 div.sk-parallel {display: flex;align-items: stretch;justify-content: center;background-color: white;position: relative;}#sk-container-id-2 div.sk-item::before, #sk-container-id-2 div.sk-parallel-item::before {content: \"\";position: absolute;border-left: 1px solid gray;box-sizing: border-box;top: 0;bottom: 0;left: 50%;z-index: -1;}#sk-container-id-2 div.sk-parallel-item {display: flex;flex-direction: column;z-index: 1;position: relative;background-color: white;}#sk-container-id-2 div.sk-parallel-item:first-child::after {align-self: flex-end;width: 50%;}#sk-container-id-2 div.sk-parallel-item:last-child::after {align-self: flex-start;width: 50%;}#sk-container-id-2 div.sk-parallel-item:only-child::after {width: 0;}#sk-container-id-2 div.sk-dashed-wrapped {border: 1px dashed gray;margin: 0 0.4em 0.5em 0.4em;box-sizing: border-box;padding-bottom: 0.4em;background-color: white;}#sk-container-id-2 div.sk-label label {font-family: monospace;font-weight: bold;display: inline-block;line-height: 1.2em;}#sk-container-id-2 div.sk-label-container {text-align: center;}#sk-container-id-2 div.sk-container {/* jupyter's `normalize.less` sets `[hidden] { display: none; }` but bootstrap.min.css set `[hidden] { display: none !important; }` so we also need the `!important` here to be able to override the default hidden behavior on the sphinx rendered scikit-learn.org. See: https://github.com/scikit-learn/scikit-learn/issues/21755 */display: inline-block !important;position: relative;}#sk-container-id-2 div.sk-text-repr-fallback {display: none;}</style><div id=\"sk-container-id-2\" class=\"sk-top-container\"><div class=\"sk-text-repr-fallback\"><pre>AgglomerativeClustering(distance_threshold=0.5, n_clusters=None)</pre><b>In a Jupyter environment, please rerun this cell to show the HTML representation or trust the notebook. <br />On GitHub, the HTML representation is unable to render, please try loading this page with nbviewer.org.</b></div><div class=\"sk-container\" hidden><div class=\"sk-item\"><div class=\"sk-estimator sk-toggleable\"><input class=\"sk-toggleable__control sk-hidden--visually\" id=\"sk-estimator-id-2\" type=\"checkbox\" checked><label for=\"sk-estimator-id-2\" class=\"sk-toggleable__label sk-toggleable__label-arrow\">AgglomerativeClustering</label><div class=\"sk-toggleable__content\"><pre>AgglomerativeClustering(distance_threshold=0.5, n_clusters=None)</pre></div></div></div></div></div>"
      ],
      "text/plain": [
       "AgglomerativeClustering(distance_threshold=0.5, n_clusters=None)"
      ]
     },
     "execution_count": 12,
     "metadata": {},
     "output_type": "execute_result"
    }
   ],
   "source": [
    "# anode limit model\n",
    "X_Val = data_Val.iloc[:, 3:]\n",
    "model_Val = AgglomerativeClustering(distance_threshold=0.5, n_clusters=None)\n",
    "model_Val=model_Val.fit(X_Val)\n",
    "model_Val.fit(X_Val)"
   ]
  },
  {
   "cell_type": "code",
   "execution_count": 13,
   "id": "a1c07322-aca8-46ed-887d-c31f0fb94e45",
   "metadata": {},
   "outputs": [],
   "source": [
    "# Drawing tree diagrams (dendrograms) for hierarchical clustering\n",
    "def plot_dendrogram(model, line_thickness=1, **kwargs):\n",
    "    # Create a counting array of sample sizes\n",
    "    counts = np.zeros(model.children_.shape[0])\n",
    "    n_samples = len(model.labels_)\n",
    "\n",
    "    # Calculate the number of samples under each node\n",
    "    for i, merge in enumerate(model.children_):\n",
    "        current_count = 0\n",
    "        for child_idx in merge:\n",
    "            if child_idx < n_samples:\n",
    "                current_count += 1  \n",
    "            else:\n",
    "                current_count += counts[child_idx - n_samples]\n",
    "        counts[i] = current_count\n",
    "\n",
    "    # Creating a link matrix\n",
    "    linkage_matrix = np.column_stack([model.children_, model.distances_, counts]).astype(float)\n",
    "\n",
    "    # Tree diagrams\n",
    "    # Plot the dendrogram without drawing the lines\n",
    "    dendrogram_results = dendrogram(linkage_matrix, no_plot=True, **kwargs)\n",
    "\n",
    "    # Now, we will draw the lines manually, using the color information\n",
    "    # provided in dendrogram_results['color_list']\n",
    "    for (x, y, color) in zip(dendrogram_results['icoord'], dendrogram_results['dcoord'], dendrogram_results['color_list']):\n",
    "        plt.plot(x, y, lw=line_thickness, color=color)  # Use the original color and set line thickness\n",
    "\n",
    "    # Set y-axis from 0 to max distance + some margin\n",
    "    plt.ylim(0, linkage_matrix[:, 2].max() * 1.05)\n",
    "\n",
    "    # Set x-axis from 0 to the max index of the leaves\n",
    "    plt.xlim(0, 10*len(dendrogram_results['ivl']))\n",
    "    \n",
    "    # Returns a list of labels for leaf nodes\n",
    "    return dendrogram_results[\"ivl\"]\n",
    "\n",
    "# Example usage:\n",
    "# Assuming 'model' is an instance of a clustering model (e.g., from sklearn.cluster.AgglomerativeClustering)\n",
    "# plt.figure(figsize=(10, 2))\n",
    "# plot_dendrogram(model, line_thickness=2.0)  # Increase line_thickness to get thicker lines\n",
    "# plt.show()\n"
   ]
  },
  {
   "cell_type": "code",
   "execution_count": 14,
   "id": "028d8d0a",
   "metadata": {},
   "outputs": [],
   "source": [
    "# Set as Arial\n",
    "plt.rcParams['font.family'] = 'Arial'"
   ]
  },
  {
   "cell_type": "code",
   "execution_count": 16,
   "id": "a830dc65",
   "metadata": {
    "scrolled": true
   },
   "outputs": [
    {
     "data": {
      "image/png": "[encoded data removed]",
      "text/plain": [
       "<Figure size 1000x200 with 1 Axes>"
      ]
     },
     "metadata": {},
     "output_type": "display_data"
    },
    {
     "data": {
      "image/png": "[encoded data removed]",
      "text/plain": [
       "<Figure size 1000x200 with 1 Axes>"
      ]
     },
     "metadata": {},
     "output_type": "display_data"
    }
   ],
   "source": [
    "# 设置相同的图形尺寸\n",
    "figsize_cluster = (10, 2)\n",
    "figsize_bar = (10, 2)\n",
    "fontsize=5\n",
    "fontsize_x=3.25\n",
    "width = 0.5\n",
    "\n",
    "# Clustering by solubility descriptors\n",
    "plt.figure(figsize=figsize_cluster)  \n",
    "leaf_nodes = plot_dendrogram(model_sol, truncate_mode='lastp', p=len(data_sol), show_contracted=True)\n",
    "# plt.title('Hierarchical Clustering Dendrogram by Solubility Energy', fontsize=fontsize, fontname='Arial')\n",
    "\n",
    "plt.ylabel('Distance', fontsize=fontsize, fontname='Arial')\n",
    "#plt.tick_params(axis='x', labelsize=fontsize, which='both')  \n",
    "plt.tick_params(axis='x', width=width, which='both', bottom=False, top=False, labelbottom=False) \n",
    "plt.tick_params(axis='y', width=width, labelsize=fontsize) \n",
    "\n",
    "ax = plt.gca()\n",
    "\n",
    "ax.yaxis.set_ticks_position('right')\n",
    "ax.yaxis.set_label_position('right')\n",
    "\n",
    "ax.tick_params(axis='y', labelsize=fontsize, labelrotation=90)\n",
    "\n",
    "\n",
    "ax.spines['top'].set_linewidth(width)  \n",
    "ax.spines['right'].set_linewidth(width)  \n",
    "ax.spines['bottom'].set_linewidth(width) \n",
    "ax.spines['left'].set_linewidth(width) \n",
    "ax.yaxis.set_major_locator(ticker.MaxNLocator(integer=True)) # Set y-axis label format to integer\n",
    "\n",
    "plt.tight_layout()  \n",
    "plt.savefig('./Figure/Cluster_by_sol.tif', format='tif', dpi=300, bbox_inches='tight')  # Save the tree diagram\n",
    "\n",
    "\n",
    "# Drawing bar graphs\n",
    "fig, ax = plt.subplots(figsize=figsize_bar)\n",
    "leaf_nodes_int = [int(node) for node in leaf_nodes]\n",
    "dataset_reorder = data_sol.reindex(leaf_nodes_int)\n",
    "df = pd.DataFrame({'Solubility Energy': dataset_reorder['Solubility Energy']})\n",
    "df.plot.bar(rot=90, ax=ax, color=['blue'], fontsize=fontsize_x, width=0.5)\n",
    "ax.yaxis.set_major_locator(ticker.MaxNLocator(integer=True)) # Set y-axis label format to integer\n",
    "ax.set_ylabel(\"Solubility Energy (kJ/mol)\", fontsize=fontsize, fontname='Arial')\n",
    "ax.tick_params(axis='y', labelsize=fontsize, labelrotation=90)\n",
    "ax.tick_params(axis='x', labelbottom=False) # Do not display the x-axis labels of the histogram\n",
    "\n",
    "plt.tick_params(axis='x', width=width)\n",
    "plt.tick_params(axis='y', width=width)\n",
    "\n",
    "ax.yaxis.set_ticks_position('right')\n",
    "ax.yaxis.set_label_position('right')\n",
    "\n",
    "ax.get_legend().remove()\n",
    "\n",
    "ax.spines['top'].set_linewidth(width)  \n",
    "ax.spines['right'].set_linewidth(width) \n",
    "ax.spines['bottom'].set_linewidth(width)\n",
    "ax.spines['left'].set_linewidth(width)   \n",
    "plt.tight_layout() \n",
    "plt.savefig('./Figure/Solvation_energy.tif', format='tif', dpi=300, bbox_inches='tight')"
   ]
  },
  {
   "cell_type": "code",
   "execution_count": 17,
   "id": "a5ceabca",
   "metadata": {
    "scrolled": true
   },
   "outputs": [
    {
     "data": {
      "image/png": "[encoded data removed]",
      "text/plain": [
       "<Figure size 1000x200 with 1 Axes>"
      ]
     },
     "metadata": {},
     "output_type": "display_data"
    },
    {
     "data": {
      "image/png": "[encoded data removed]",
      "text/plain": [
       "<Figure size 1000x200 with 1 Axes>"
      ]
     },
     "metadata": {},
     "output_type": "display_data"
    }
   ],
   "source": [
    "# Clustering by solubility descriptors\n",
    "plt.figure(figsize=figsize_cluster)  \n",
    "leaf_nodes = plot_dendrogram(model_Val, truncate_mode='lastp', p=len(data_Val), show_contracted=True)\n",
    "\n",
    "# plt.title('Hierarchical Clustering Dendrogram by Anode Limit', fontsize=fontsize, fontname='Arial')\n",
    "plt.ylabel('Distance', fontsize=fontsize, fontname='Arial')\n",
    "plt.tick_params(axis='x', which='both', bottom=False, top=False, labelbottom=False)\n",
    "plt.tick_params(axis='y', labelsize=fontsize) \n",
    "\n",
    "ax = plt.gca()\n",
    "\n",
    "ax.yaxis.set_ticks_position('right')\n",
    "ax.yaxis.set_label_position('right')\n",
    "ax.tick_params(axis='y', width=width, labelsize=fontsize, labelrotation=90)\n",
    "\n",
    "ax.spines['top'].set_linewidth(width)  \n",
    "ax.spines['right'].set_linewidth(width)  \n",
    "ax.spines['bottom'].set_linewidth(width) \n",
    "ax.spines['left'].set_linewidth(width)  \n",
    "ax.yaxis.set_major_locator(ticker.MaxNLocator(integer=True)) # Set y-axis label format to integer\n",
    "\n",
    "plt.tight_layout()  \n",
    "plt.savefig('./Figure/Cluster_by_Val.tif', format='tif', dpi=300, bbox_inches='tight')  # Save the tree diagram\n",
    "\n",
    "# Drawing bar graphs\n",
    "fig, ax = plt.subplots(figsize=figsize_bar)\n",
    "leaf_nodes_int = [int(node) for node in leaf_nodes]\n",
    "dataset_reorder = data_Val.reindex(leaf_nodes_int)\n",
    "df = pd.DataFrame({'Anode Limit': dataset_reorder['Anode Limit']})\n",
    "df.plot.bar(rot=90, ax=ax, color=['blue'], fontsize=fontsize_x, width=0.5)\n",
    "ax.yaxis.set_major_locator(ticker.MaxNLocator(integer=True)) # Set y-axis label format to integer\n",
    "ax.set_ylabel(\"Anode Limit (V)\", fontsize=fontsize, fontname='Arial')\n",
    "plt.tick_params(axis='x', width=width)\n",
    "plt.tick_params(axis='y', width=width)\n",
    "\n",
    "ax.tick_params(axis='y', labelsize=fontsize, labelrotation=90)\n",
    "ax.tick_params(axis='x', labelbottom=False) # Do not display the x-axis labels of the histogram\n",
    "\n",
    "ax.yaxis.set_ticks_position('right')\n",
    "ax.yaxis.set_label_position('right')\n",
    "\n",
    "ax.get_legend().remove()\n",
    "# ax.axhline(y=2.9, color='red', linestyle='--', linewidth=width) \n",
    "# ax.axhline(y=4.3, color='green', linestyle='--', linewidth=width)\n",
    "\n",
    "ax.spines['top'].set_linewidth(width) \n",
    "ax.spines['right'].set_linewidth(width) \n",
    "ax.spines['bottom'].set_linewidth(width)\n",
    "ax.spines['left'].set_linewidth(width) \n",
    "plt.tight_layout() \n",
    "plt.savefig('./Figure/Anode_limit.tif', format='tif', dpi=300, bbox_inches='tight')"
   ]
  },
  {
   "cell_type": "code",
   "execution_count": 18,
   "id": "7a5d7c33",
   "metadata": {},
   "outputs": [],
   "source": [
    "# Save data_sol as an Excel spreadsheet\n",
    "data_sol.to_excel('./Data/data_sol.xlsx', index=False)\n",
    "\n",
    "# Save data_Val as an Excel spreadsheet\n",
    "data_Val.to_excel('./Data/data_Val.xlsx', index=False)"
   ]
  },
  {
   "cell_type": "code",
   "execution_count": null,
   "id": "da2ea4ef",
   "metadata": {},
   "outputs": [],
   "source": []
  },
  {
   "cell_type": "code",
   "execution_count": null,
   "id": "722e3a1b",
   "metadata": {},
   "outputs": [],
   "source": []
  }
 ],
 "metadata": {
  "kernelspec": {
   "display_name": "Python 3 (ipykernel)",
   "language": "python",
   "name": "python3"
  },
  "language_info": {
   "codemirror_mode": {
    "name": "ipython",
    "version": 3
   },
   "file_extension": ".py",
   "mimetype": "text/x-python",
   "name": "python",
   "nbconvert_exporter": "python",
   "pygments_lexer": "ipython3",
   "version": "3.11.6"
  }
 },
 "nbformat": 4,
 "nbformat_minor": 5
}
